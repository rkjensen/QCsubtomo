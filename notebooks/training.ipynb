{
 "cells": [
  {
   "cell_type": "code",
   "execution_count": null,
   "metadata": {},
   "outputs": [],
   "source": [
    "%matplotlib inline\n",
    "import os\n",
    "os.environ['PYTHONPATH'] = os.getcwd()\n",
    "DATA_DIR = 'data/sim'\n",
    "if not os.path.exists(DATA_DIR):\n",
    "    os.makedirs(DATA_DIR, exist_ok=True)\n",
    "# generate small dataset for a quick run\n",
    "!python src/simulate.py --out-dir data/sim --n-usable 200 --n-junk 200 --size 64"
   ]
  },
  {
   "cell_type": "code",
   "execution_count": null,
   "metadata": {
    "vscode": {
     "languageId": "shellscript"
    }
   },
   "outputs": [],
   "source": [
    "!python src/train_pretrain.py --data-dir data/sim --out models/pretrained_small.pth --epochs 10 --batch-size 8 --size 64"
   ]
  },
  {
   "cell_type": "code",
   "execution_count": null,
   "metadata": {
    "vscode": {
     "languageId": "shellscript"
    }
   },
   "outputs": [],
   "source": [
    "!python src/train_classifier.py --data-dir data/sim --pretrained models/pretrained_small.pth --out models/clf_small.pth --epochs 10 --batch-size 8 --size 64"
   ]
  },
  {
   "cell_type": "code",
   "execution_count": null,
   "metadata": {},
   "outputs": [],
   "source": [
    "!python src/score_subtomos.py --encoder models/pretrained_small.pth --clf models/clf_small.pth --folder data/sim/usable --out scores_usable.csv\n",
    "!python src/score_subtomos.py --encoder models/pretrained_small.pth --clf models/clf_small.pth --folder data/sim/junk --out scores_junk.csv\n",
    "import pandas as pd\n",
    "pd.read_csv('scores_usable.csv').head()"
   ]
  }
 ],
 "metadata": {
  "language_info": {
   "name": "python"
  },
  "orig_nbformat": 4
 },
 "nbformat": 4,
 "nbformat_minor": 2
}
